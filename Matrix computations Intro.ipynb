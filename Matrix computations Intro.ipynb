{
 "cells": [
  {
   "cell_type": "markdown",
   "metadata": {},
   "source": [
    "**Matrices** <br>\n",
    "*Introduction to matrix computations* <br>\n",
    "A matrix is a two-dimensional collection of numbers.We represent matrices as lists of lists,with each inner list having the same size and representing a row of the matrix. <br>\n",
    "If A is a matrix, then A[i][j] is the element in the ith row and the jth column.\n",
    "Per mathematical convention, we will typically use capital letters to represent matri‐\n",
    "ces. For example:<br>\n",
    "A = [[1, 2, 3], # A has 2 rows and 3 columns\n",
    " [4, 5, 6]]\n",
    "B = [[1, 2], # B has 3 rows and 2 columns\n",
    " [3, 4],\n",
    " [5, 6]]\n"
   ]
  },
  {
   "cell_type": "code",
   "execution_count": 1,
   "metadata": {},
   "outputs": [
    {
     "data": {
      "text/plain": [
       "(2, 3)"
      ]
     },
     "execution_count": 1,
     "metadata": {},
     "output_type": "execute_result"
    }
   ],
   "source": [
    "#Given this list-of-lists representation, the matrix A has len(A) rows and len(A[0])\n",
    "#columns, which we consider its shape:\n",
    "\n",
    "def shape(A):\n",
    "    num_rows=len(A)\n",
    "    num_cols=len(A[0]) if A else 0 #no of elements in the first row\n",
    "    return num_rows,num_cols\n",
    "shape(A = [[1, 2, 3],\n",
    "           [4, 5, 6]])"
   ]
  },
  {
   "cell_type": "markdown",
   "metadata": {},
   "source": [
    "-If a matrix has n rows and k columns, we will refer to it as a n×k matrix. We can\n",
    "(and sometimes will) think of each row of a n×k matrix as a vector of length k, and\n",
    "each column as a vector of length n:"
   ]
  },
  {
   "cell_type": "code",
   "execution_count": 2,
   "metadata": {},
   "outputs": [
    {
     "data": {
      "text/plain": [
       "[1, 2, 3]"
      ]
     },
     "execution_count": 2,
     "metadata": {},
     "output_type": "execute_result"
    }
   ],
   "source": [
    "def get_row(A, i=0):\n",
    "    return A[i]\n",
    "\n",
    "get_row(A = [[1, 2, 3],\n",
    "             [4, 5, 6]])"
   ]
  },
  {
   "cell_type": "code",
   "execution_count": 6,
   "metadata": {},
   "outputs": [
    {
     "data": {
      "text/plain": [
       "[1, 4]"
      ]
     },
     "execution_count": 6,
     "metadata": {},
     "output_type": "execute_result"
    }
   ],
   "source": [
    "def get_column(A, j=0):\n",
    "    return [A_i[j]\n",
    "            for A_i in A]\n",
    "get_column(A = [[1, 2, 3],\n",
    "                [4, 5, 6]])\n"
   ]
  },
  {
   "cell_type": "markdown",
   "metadata": {},
   "source": [
    "-We’ll also want to be able to create a matrix given its shape and a function for generat‐\n",
    "ing its elements. We can do this using a nested list comprehension:"
   ]
  },
  {
   "cell_type": "code",
   "execution_count": null,
   "metadata": {},
   "outputs": [],
   "source": [
    "def make_matrix(num_rows,num_cols,entry_fxn):\n",
    "    \"\"\"returns a num_rows x num_cols matrix whose (i,j)th entry is entry_fn(i,j)\"\"\"\n",
    "    return [[entry_fxn(i,j)\n",
    "            for i in range(num_rows)]\n",
    "            for j in range(num_cols)]\n",
    "make_matrix([3],[3],[1])"
   ]
  },
  {
   "cell_type": "markdown",
   "metadata": {},
   "source": [
    "-Given this function, you could make a 5 × 5 identity matrix (with 1s on the diagonal\n",
    "and 0s elsewhere) with:\n"
   ]
  },
  {
   "cell_type": "code",
   "execution_count": 14,
   "metadata": {},
   "outputs": [],
   "source": [
    "def is_diagonal(i,j):\n",
    "     \"\"\"1s is on the diagnol zero elsewhere\"\"\"\n",
    "     return 1 if i==j else 0\n",
    "\n",
    "identity_matrix=make_matrix(5,5,is_diagonal)\n",
    "\n"
   ]
  },
  {
   "cell_type": "code",
   "execution_count": 15,
   "metadata": {},
   "outputs": [
    {
     "data": {
      "text/plain": [
       "[[1, 0, 0, 0, 0],\n",
       " [0, 1, 0, 0, 0],\n",
       " [0, 0, 1, 0, 0],\n",
       " [0, 0, 0, 1, 0],\n",
       " [0, 0, 0, 0, 1]]"
      ]
     },
     "execution_count": 15,
     "metadata": {},
     "output_type": "execute_result"
    }
   ],
   "source": [
    "identity_matrix"
   ]
  },
  {
   "cell_type": "markdown",
   "metadata": {},
   "source": [
    "-Matrices will be important to us for several reasons.<br>\n",
    "-First, we can use a matrix to represent a data set consisting of multiple vectors, simply\n",
    "by considering each vector as a row of the matrix. For example, if you had the\n",
    "heights, weights, and ages of 1,000 people you could put them in a 1, 000 × 3 matrix:\n",
    "data = [[70, 170, 40],\n",
    "        [65, 120, 26],\n",
    "        [77, 250, 19],\n",
    "        # ....\n",
    "        ]\n",
    "\n",
    "-Second, as we’ll see later, we can use an n×k matrix to represent a linear function\n",
    "that maps k-dimensional vectors to n-dimensional vectors. Several of our techniques\n",
    "and concepts will involve such functions.<br>\n",
    "-Third, matrices can be used to represent binary relationships.An alternative represen‐\n",
    "tation would be to create a matrix A such that A[i][j] is 1 if nodes i and j are\n",
    "connected and 0 otherwise."
   ]
  },
  {
   "cell_type": "code",
   "execution_count": 16,
   "metadata": {},
   "outputs": [
    {
     "data": {
      "text/plain": [
       "False"
      ]
     },
     "execution_count": 16,
     "metadata": {},
     "output_type": "execute_result"
    }
   ],
   "source": [
    "#3.represent binary relationships\n",
    "#checking if two nodes are connected; we do matrix lookup\n",
    "#instead of inspecting every edge\n",
    "friendships = [[0, 1, 1, 0, 0, 0, 0, 0, 0, 0], # user 0\n",
    "                [1, 0, 1, 1, 0, 0, 0, 0, 0, 0], # user 1\n",
    "                [1, 1, 0, 1, 0, 0, 0, 0, 0, 0], # user 2\n",
    "                [0, 1, 1, 0, 1, 0, 0, 0, 0, 0], # user 3\n",
    "                [0, 0, 0, 1, 0, 1, 0, 0, 0, 0], # user 4\n",
    "                [0, 0, 0, 0, 1, 0, 1, 1, 0, 0], # user 5\n",
    "                [0, 0, 0, 0, 0, 1, 0, 0, 1, 0], # user 6\n",
    "                [0, 0, 0, 0, 0, 1, 0, 0, 1, 0], # user 7\n",
    "                [0, 0, 0, 0, 0, 0, 1, 1, 0, 1], # user 8\n",
    "                [0, 0, 0, 0, 0, 0, 0, 0, 1, 0]] # user 9       \n",
    "\n",
    "friendships[2][5]==1"
   ]
  },
  {
   "cell_type": "code",
   "execution_count": 17,
   "metadata": {},
   "outputs": [
    {
     "data": {
      "text/plain": [
       "False"
      ]
     },
     "execution_count": 17,
     "metadata": {},
     "output_type": "execute_result"
    }
   ],
   "source": [
    "friendships[0][8]==1"
   ]
  },
  {
   "cell_type": "code",
   "execution_count": 18,
   "metadata": {},
   "outputs": [
    {
     "name": "stdout",
     "output_type": "stream",
     "text": [
      "[4, 6, 7]\n"
     ]
    }
   ],
   "source": [
    "friends_of_five=[i for i , is_friend in enumerate(friendships[5])\n",
    "                if is_friend]\n",
    "print(friends_of_five)"
   ]
  }
 ],
 "metadata": {
  "kernelspec": {
   "display_name": "Python 3",
   "language": "python",
   "name": "python3"
  },
  "language_info": {
   "codemirror_mode": {
    "name": "ipython",
    "version": 3
   },
   "file_extension": ".py",
   "mimetype": "text/x-python",
   "name": "python",
   "nbconvert_exporter": "python",
   "pygments_lexer": "ipython3",
   "version": "3.10.0"
  },
  "orig_nbformat": 4
 },
 "nbformat": 4,
 "nbformat_minor": 2
}
