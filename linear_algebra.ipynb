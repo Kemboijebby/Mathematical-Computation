{
 "cells": [
  {
   "cell_type": "markdown",
   "metadata": {},
   "source": [
    "Linear algebra is the branch of mathematics that deals with vector spaces."
   ]
  },
  {
   "cell_type": "markdown",
   "metadata": {},
   "source": [
    "**Vectors**<br>\n",
    "Abstractly, vectors are objects that can be added together (to form new vectors) and\n",
    "that can be multiplied by scalars (i.e., numbers), also to form new vectors.\n",
    "Concretely (for us), vectors are points in some finite-dimensional space. Although\n",
    "you might not think of your data as vectors, they are a good way to represent numeric\n",
    "data."
   ]
  },
  {
   "cell_type": "markdown",
   "metadata": {},
   "source": [
    "deals with vector spaces\n"
   ]
  },
  {
   "cell_type": "code",
   "execution_count": null,
   "metadata": {},
   "outputs": [],
   "source": [
    "#adding two vectors\n",
    "#v=[2,3] \n",
    "#w=[1,1]\n",
    "def vector_add(v,w):\n",
    "    \"\"\"adds corresponding elements\"\"\"\n",
    "    return[v_i + w_i\n",
    "          for v_i,w_i in zip(v,w)]\n",
    "vector_add(v=[1,2],w=[1,1])"
   ]
  },
  {
   "cell_type": "code",
   "execution_count": null,
   "metadata": {},
   "outputs": [],
   "source": [
    "#subtracting two vectors\n",
    "def vector_subtract(v,w):\n",
    "    return[v_i - w_i\n",
    "          for v_i, w_i in zip(v,w)]\n",
    "vector_subtract(v=[5,5],w=[4,4])"
   ]
  },
  {
   "cell_type": "code",
   "execution_count": null,
   "metadata": {},
   "outputs": [],
   "source": [
    "#sum of list of vectors\n",
    "vectors=[1,2]\n",
    "def vector_sum(vectors):\n",
    "    \"\"\"sum of corresponding elements\"\"\"\n",
    "    result=vectors[0]\n",
    "    for vector in vectors[1:]:\n",
    "        result=vector_add(result,vector)\n",
    "    return result\n",
    "vector_sum(vectors=([2,1],[2,2],[3,1],[1,1]))"
   ]
  },
  {
   "cell_type": "markdown",
   "metadata": {},
   "source": [
    "multiplication\n",
    "we multiply a vector by a scalar"
   ]
  },
  {
   "cell_type": "code",
   "execution_count": null,
   "metadata": {},
   "outputs": [],
   "source": [
    "def scalar_multiply(c,v):\n",
    "    \"\"\"c is a number, v is a vector\"\"\"\n",
    "    return [c * v_i for v_i in v]\n",
    "scalar_multiply(c=3,v=[2,2])\n",
    "    "
   ]
  },
  {
   "cell_type": "markdown",
   "metadata": {},
   "source": [
    "This allows us also to compute the componentwise means of a list of (same-sized)vectors"
   ]
  },
  {
   "cell_type": "code",
   "execution_count": null,
   "metadata": {},
   "outputs": [],
   "source": [
    "def vector_mean(vectors):\n",
    "    \"\"\"compute the vector whose ith element is the mean\n",
    "    of the ith elements of the input vectors\"\"\"\n",
    "    n=len(vectors)\n",
    "    return scalar_multiply(1/n,vector_sum(vectors))\n",
    "vector_mean(vectors=([1,1],[2,2],[3,3]))"
   ]
  },
  {
   "cell_type": "code",
   "execution_count": null,
   "metadata": {},
   "outputs": [],
   "source": [
    "#dot product\n",
    "def dot(v,w):\n",
    "    \"\"\"v_1 * w_1 *......\"\"\"\n",
    "    return sum(v_i * w_i\n",
    "               for v_i,w_i in zip(v,w))"
   ]
  },
  {
   "cell_type": "code",
   "execution_count": null,
   "metadata": {},
   "outputs": [],
   "source": [
    "def sum_of_squares(v):\n",
    "    \"\"\"v_i * v_i +...+ v_n * v_n\"\"\"\n",
    "    return dot(v,v)\n",
    "sum_of_squares([11,11])"
   ]
  },
  {
   "cell_type": "code",
   "execution_count": null,
   "metadata": {},
   "outputs": [],
   "source": [
    "import math\n",
    "def magnitude(v):\n",
    "    return math.sqrt(sum_of_squares(v)) "
   ]
  },
  {
   "cell_type": "markdown",
   "metadata": {},
   "source": [
    "def sum of squares\n",
    "def magnitude\n",
    "def distance(v,w)"
   ]
  },
  {
   "cell_type": "code",
   "execution_count": null,
   "metadata": {},
   "outputs": [],
   "source": [
    "#sum of squares\n",
    "def squared_distance(v,w):\n",
    "    \"\"\"(v_1 - w_1) ** 2 + ... + (v_n - w_n) ** 2\"\"\"\n",
    "    return sum_of_squares(vector_subtract(v, w))"
   ]
  },
  {
   "cell_type": "code",
   "execution_count": null,
   "metadata": {},
   "outputs": [],
   "source": [
    "def distance(v, w):\n",
    " return math.sqrt(squared_distance(v, w))\n"
   ]
  },
  {
   "cell_type": "code",
   "execution_count": null,
   "metadata": {},
   "outputs": [],
   "source": [
    "#Which is possibly clearer if we write it as (the equivalent):\n",
    "def distance(v, w):\n",
    " return magnitude(vector_subtract(v, w))\n"
   ]
  }
 ],
 "metadata": {
  "kernelspec": {
   "display_name": "Python 3.10.0 64-bit",
   "language": "python",
   "name": "python3"
  },
  "language_info": {
   "codemirror_mode": {
    "name": "ipython",
    "version": 3
   },
   "file_extension": ".py",
   "mimetype": "text/x-python",
   "name": "python",
   "nbconvert_exporter": "python",
   "pygments_lexer": "ipython3",
   "version": "3.10.0"
  },
  "orig_nbformat": 4,
  "vscode": {
   "interpreter": {
    "hash": "26de051ba29f2982a8de78e945f0abaf191376122a1563185a90213a26c5da77"
   }
  }
 },
 "nbformat": 4,
 "nbformat_minor": 2
}
