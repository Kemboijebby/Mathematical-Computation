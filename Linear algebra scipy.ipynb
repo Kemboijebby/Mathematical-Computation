{
 "cells": [
  {
   "cell_type": "markdown",
   "metadata": {},
   "source": [
    "## Scipy linear algebra-Scipy Linalg\n",
    "\n",
    "The SciPy package includes the features of the NumPy package in Python. It uses NumPy arrays as the fundamental data structure. It has all the features included in the linear algebra of the NumPy module and some extended functionality. It consists of a linalg submodule, and there is an overlap in the functionality provided by the SciPy and NumPy submodules."
   ]
  },
  {
   "cell_type": "markdown",
   "metadata": {},
   "source": [
    "## SOLVING LINEAR EGUATIONS\n",
    "\n",
    "The **linalg.solve** function is used to solve the given linear equations. It is used to evaluate the equations automatically and find the values of the unknown variables.<br>\n",
    "Suppose the linear equations are:\n",
    "\n",
    "7x + 2y = 8\n",
    "4x +5y =10\n"
   ]
  },
  {
   "cell_type": "code",
   "execution_count": 2,
   "metadata": {},
   "outputs": [
    {
     "data": {
      "text/plain": [
       "array([0.74074074, 1.40740741])"
      ]
     },
     "execution_count": 2,
     "metadata": {},
     "output_type": "execute_result"
    }
   ],
   "source": [
    "from scipy import linalg\n",
    "import numpy as np\n",
    "\n",
    "#Thw function takes two arrays\n",
    "a=np.array([[7,2],[4,5]])\n",
    "b=np.array([8,10])\n",
    "\n",
    "#solving the linear equation\n",
    "result=linalg.solve(a,b)\n",
    "result"
   ]
  },
  {
   "cell_type": "markdown",
   "metadata": {},
   "source": [
    "## Calculating the inverse of a matrix\n",
    "\n",
    "The **scipy.linalg.inv** is used  to find the inverse of a matrix\n",
    "\n",
    "\n",
    "consider:\n",
    "A=[7  2\n",
    "   4,5]"
   ]
  },
  {
   "cell_type": "code",
   "execution_count": 3,
   "metadata": {},
   "outputs": [
    {
     "data": {
      "text/plain": [
       "array([[ 0.18518519, -0.07407407],\n",
       "       [-0.14814815,  0.25925926]])"
      ]
     },
     "execution_count": 3,
     "metadata": {},
     "output_type": "execute_result"
    }
   ],
   "source": [
    "#Initializing the matrix\n",
    "x=np.array([[7,2],[4,5]])\n",
    "\n",
    "#Finding the inverse of x\n",
    "y=linalg.inv(x)\n",
    "y"
   ]
  },
  {
   "cell_type": "markdown",
   "metadata": {},
   "source": [
    "## Calculating the Pseudo Inverse of a Matrix <br>\n",
    "To evaluate the (Moore-Penrose) pseudo-inverse of a matrix,   **scipy.linalg.pinv** is used.\n",
    "\n"
   ]
  },
  {
   "cell_type": "code",
   "execution_count": 4,
   "metadata": {},
   "outputs": [
    {
     "data": {
      "text/plain": [
       "array([[ 0.14251208, -0.03381643, -0.03864734],\n",
       "       [-0.07487923,  0.16183575,  0.11352657]])"
      ]
     },
     "execution_count": 4,
     "metadata": {},
     "output_type": "execute_result"
    }
   ],
   "source": [
    "x=np.array([[8,2],[3,5],[1,3]])\n",
    "\n",
    "y=linalg.pinv(x)\n",
    "y"
   ]
  },
  {
   "cell_type": "markdown",
   "metadata": {},
   "source": [
    "## Finding the determinant of a matrix\n",
    "\n",
    "The determinant of a square matrix is a value derived arithmetically from the coefficients of the matrix. In the linalg module, we use the **linalg.det()** function to find the determinant of a matrix.\n"
   ]
  },
  {
   "cell_type": "code",
   "execution_count": 5,
   "metadata": {},
   "outputs": [
    {
     "data": {
      "text/plain": [
       "21.0"
      ]
     },
     "execution_count": 5,
     "metadata": {},
     "output_type": "execute_result"
    }
   ],
   "source": [
    "A=np.array([[9,6],[4,5]])\n",
    "\n",
    "#finding the det\n",
    "D=linalg.det(A)\n",
    "D"
   ]
  },
  {
   "cell_type": "markdown",
   "metadata": {},
   "source": [
    "## Singular Value Decomposition \n",
    "\n",
    "The Singular-Value Decomposition is a matrix decomposition method for reducing a matrix to its constituent parts to make specific subsequent matrix calculations simpler. It is calculated using **scipy.linalg.svd**.\n"
   ]
  },
  {
   "cell_type": "code",
   "execution_count": 6,
   "metadata": {},
   "outputs": [
    {
     "name": "stdout",
     "output_type": "stream",
     "text": [
      "[[-0.38684104 -0.92214641]\n",
      " [-0.92214641  0.38684104]] [12.62901571  1.58365469] [[-0.46873958 -0.88333641]\n",
      " [ 0.88333641 -0.46873958]]\n"
     ]
    }
   ],
   "source": [
    "M=np.array([[1,5],[6,10]])\n",
    "\n",
    "#passing the values to the eigen fxn\n",
    "x,y,z=linalg.svd(M)\n",
    "print(x,y,z)"
   ]
  },
  {
   "cell_type": "markdown",
   "metadata": {},
   "source": [
    "## Eigenvalues and EigenVectors\n",
    "\n",
    "Let M be an n×n matrix and let X∈Cn be a non-zero vector for which:\n",
    "\n",
    "MX = λX for some scalar λ.\n",
    "λ is called an eigenvalue of the matrix M and X is called an eigenvector of M associated with λ, or a λ-eigenvector of M\n",
    "\n",
    "The function scipy.linalg.eig takes a complex or a real matrix M whose eigenvalues and eigenvectors are to be evaluated. It returns the scalar set of eigenvalues for the matrix. It finds the eigenvalues and the right or left eigenvectors of the matrix."
   ]
  },
  {
   "cell_type": "code",
   "execution_count": 8,
   "metadata": {},
   "outputs": [
    {
     "name": "stdout",
     "output_type": "stream",
     "text": [
      "[10.+0.j  3.+0.j]\n",
      "[[ 0.9486833  -0.4472136 ]\n",
      " [ 0.31622777  0.89442719]]\n"
     ]
    }
   ],
   "source": [
    "M=np.array([[9,3],[2,4]])\n",
    "\n",
    "val,vect = linalg.eig(M)\n",
    "\n",
    "print(val)\n",
    "print(vect)"
   ]
  },
  {
   "cell_type": "markdown",
   "metadata": {},
   "source": [
    "## Calculating the norm\n",
    "\n",
    "To define how close two vectors or matrices are, and to define the convergence of sequences of vectors or matrices, the norm is used. The function scipy.linalg.norm is used to calculate the matrix or vector norm.\n",
    "\n",
    "The function scipy.linalg.norm returns one of the seven different matrix norms or one of an infinite number of vector norms. \n",
    "\n",
    "    -The L2 norm evaluates the distance of the vector coordinate from the origin of the vector space. It is also known as the Euclidean norm as it is calculated as the Euclidean distance from the origin. The result is a positive distance value.<br>\n",
    "    -The L1 norm is evaluated as the sum of the absolute vector values. It is an evaluation of the Manhattan distance from the origin of the vector space.\n"
   ]
  },
  {
   "cell_type": "code",
   "execution_count": 10,
   "metadata": {},
   "outputs": [
    {
     "name": "stdout",
     "output_type": "stream",
     "text": [
      "6.708203932499369\n",
      "9.0\n"
     ]
    }
   ],
   "source": [
    "#initializing the input array\n",
    "x=np.array([6,3])\n",
    "\n",
    "#calculating the L2 norm\n",
    "a=linalg.norm(x)\n",
    "\n",
    "#calcullating the L1 norm\n",
    "b=linalg.norm(x,1)\n",
    "\n",
    "print(a)\n",
    "print(b)"
   ]
  },
  {
   "cell_type": "markdown",
   "metadata": {},
   "source": [
    "## More Matrix Functions\n",
    "\n",
    "Function Name\t              Definition\n",
    "\n",
    "scipy.linalg.sqrtm(A, disp, blocksize)\tFinds the square root of the matrix.\n",
    "\n",
    "scipy.linalg.expm(A)\tComputes the matrix exponential using Pade approximation.\n",
    "\n",
    "scipy.linalg.sinm(A)\tComputes the sine of the matrix.\n",
    "\n",
    "scipy.linalg.cosm(A)\tComputes the cosine of the matrix.\n",
    "\n",
    "scipy.linalg.tanm(A)\tComputes the tangent of the matrix."
   ]
  }
 ],
 "metadata": {
  "kernelspec": {
   "display_name": "Python 3",
   "language": "python",
   "name": "python3"
  },
  "language_info": {
   "codemirror_mode": {
    "name": "ipython",
    "version": 3
   },
   "file_extension": ".py",
   "mimetype": "text/x-python",
   "name": "python",
   "nbconvert_exporter": "python",
   "pygments_lexer": "ipython3",
   "version": "3.10.0"
  },
  "orig_nbformat": 4
 },
 "nbformat": 4,
 "nbformat_minor": 2
}
